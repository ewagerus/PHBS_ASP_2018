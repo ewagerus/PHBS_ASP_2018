{
 "cells": [
  {
   "cell_type": "markdown",
   "metadata": {
    "collapsed": true
   },
   "source": [
    "# SABR Model Test Code"
   ]
  },
  {
   "cell_type": "code",
   "execution_count": 9,
   "metadata": {
    "collapsed": false
   },
   "outputs": [],
   "source": [
    "import imp\n",
    "import numpy as np\n",
    "import matplotlib.pyplot as plt\n",
    "import option_models as opt"
   ]
  },
  {
   "cell_type": "code",
   "execution_count": 10,
   "metadata": {
    "collapsed": true
   },
   "outputs": [],
   "source": [
    "### only run this when you changed the class definition\n",
    "CODE_CHANGED = False\n",
    "if( CODE_CHANGED ):\n",
    "    imp.reload(opt)"
   ]
  },
  {
   "cell_type": "markdown",
   "metadata": {},
   "source": [
    "## 1. Pricing using Hagan's formula (provided)"
   ]
  },
  {
   "cell_type": "markdown",
   "metadata": {},
   "source": [
    "### (1) SABR for $0<\\beta\\le 1$"
   ]
  },
  {
   "cell_type": "code",
   "execution_count": 11,
   "metadata": {
    "collapsed": true
   },
   "outputs": [],
   "source": [
    "# Parameters\n",
    "strike = np.linspace(75,125,num=25)\n",
    "# strike = 110 # should work for scalar value \n",
    "forward = 100\n",
    "sigma = 0.2\n",
    "texp = 1\n",
    "alpha = 0.3\n",
    "rho = 0.25\n",
    "beta = 1"
   ]
  },
  {
   "cell_type": "code",
   "execution_count": 12,
   "metadata": {
    "collapsed": false
   },
   "outputs": [
    {
     "data": {
      "text/plain": [
       "{'alpha': 0.3,\n",
       " 'beta': 1,\n",
       " 'bsm_model': <option_models.bsm.Model at 0x1ca0d2c85c0>,\n",
       " 'divr': 0,\n",
       " 'intr': 0,\n",
       " 'rho': 0.25,\n",
       " 'sigma': 0.2,\n",
       " 'texp': 1}"
      ]
     },
     "execution_count": 12,
     "metadata": {},
     "output_type": "execute_result"
    }
   ],
   "source": [
    "# Create model\n",
    "sabr_bsm = opt.sabr.ModelHagan(texp, sigma, alpha=alpha, rho=rho, beta=beta)\n",
    "sabr_bsm.__dict__"
   ]
  },
  {
   "cell_type": "code",
   "execution_count": 13,
   "metadata": {
    "collapsed": false
   },
   "outputs": [
    {
     "data": {
      "text/plain": [
       "(array([ 25.54990056,  23.6710906 ,  21.84772723,  20.08808242,\n",
       "         18.39998119,  16.79046024,  15.26547396,  13.82967094,\n",
       "         12.48625486,  11.23693323,  10.08194855,   9.0201795 ,\n",
       "          8.0492952 ,   7.16594441,   6.36596195,   5.64457698,\n",
       "          4.99661108,   4.41665739,   3.8992357 ,   3.43892089,\n",
       "          3.03044477,   2.66877274,   2.34915782,   2.06717523,   1.81874082]),\n",
       " array([ 0.19740451,  0.19730124,  0.19731138,  0.19742763,  0.19764276,\n",
       "         0.19794962,  0.19834124,  0.19881083,  0.19935186,  0.19995804,\n",
       "         0.2006234 ,  0.20134229,  0.20210938,  0.20291966,  0.2037685 ,\n",
       "         0.20465155,  0.20556483,  0.20650464,  0.2074676 ,  0.20845059,\n",
       "         0.20945078,  0.21046559,  0.21149265,  0.21252984,  0.21357521]))"
      ]
     },
     "execution_count": 13,
     "metadata": {},
     "output_type": "execute_result"
    }
   ],
   "source": [
    "# This is how you price. you can get either price or bsm_vol\n",
    "price = sabr_bsm.price(strike, forward)\n",
    "bsm_vol = sabr_bsm.bsm_vol(strike, forward)\n",
    "\n",
    "price, bsm_vol"
   ]
  },
  {
   "cell_type": "code",
   "execution_count": 14,
   "metadata": {
    "collapsed": false
   },
   "outputs": [
    {
     "data": {
      "image/png": "[encoded data removed]",
      "text/plain": [
       "<matplotlib.figure.Figure at 0x1ca0d2c8828>"
      ]
     },
     "metadata": {},
     "output_type": "display_data"
    }
   ],
   "source": [
    "# volatility smile plot: try with different parameters\n",
    "plt.plot(strike, bsm_vol, 'ro')\n",
    "#plt.axis([0, 6, 0, 20])\n",
    "plt.ylabel('BSM Imp Vol under SABR')\n",
    "plt.xlabel('Strike')\n",
    "plt.grid()\n",
    "plt.show()"
   ]
  },
  {
   "cell_type": "code",
   "execution_count": 15,
   "metadata": {
    "collapsed": false
   },
   "outputs": [
    {
     "data": {
      "text/plain": [
       "0.19999999999936008"
      ]
     },
     "execution_count": 15,
     "metadata": {},
     "output_type": "execute_result"
    }
   ],
   "source": [
    "# implied vol (sigma in this case)\n",
    "# you should get back the original sigma\n",
    "sabr_bsm.impvol(price[11], strike[11], forward)"
   ]
  },
  {
   "cell_type": "markdown",
   "metadata": {
    "collapsed": false
   },
   "source": [
    "### (2) SABR for $\\beta=0$"
   ]
  },
  {
   "cell_type": "code",
   "execution_count": 16,
   "metadata": {
    "collapsed": false
   },
   "outputs": [],
   "source": [
    "strike = np.linspace(75,125,num=25)\n",
    "#strike = 1\n",
    "forward = 100\n",
    "sigma = 20\n",
    "texp = 1\n",
    "alpha = 0.5\n",
    "rho = -0.25\n",
    "beta = 0"
   ]
  },
  {
   "cell_type": "code",
   "execution_count": 17,
   "metadata": {
    "collapsed": false
   },
   "outputs": [],
   "source": [
    "nvol = opt.sabr.norm_vol(strike, forward, texp, sigma, alpha=alpha, rho=rho)"
   ]
  },
  {
   "cell_type": "code",
   "execution_count": 18,
   "metadata": {
    "collapsed": false
   },
   "outputs": [
    {
     "data": {
      "image/png": "[encoded data removed]",
      "text/plain": [
       "<matplotlib.figure.Figure at 0x1ca0d649470>"
      ]
     },
     "metadata": {},
     "output_type": "display_data"
    }
   ],
   "source": [
    "plt.plot(strike, nvol, 'ro')\n",
    "#plt.axis([0, 6, 0, 20])\n",
    "plt.ylabel('Normal Imp Vol under SABR')\n",
    "plt.xlabel('Strike')\n",
    "plt.grid()\n",
    "plt.show()"
   ]
  },
  {
   "cell_type": "code",
   "execution_count": 19,
   "metadata": {
    "collapsed": false
   },
   "outputs": [
    {
     "data": {
      "text/plain": [
       "{'alpha': 0.5,\n",
       " 'beta': 0.0,\n",
       " 'divr': 0,\n",
       " 'intr': 0,\n",
       " 'normal_model': <option_models.normal.Model at 0x1ca0d6e6390>,\n",
       " 'rho': -0.25,\n",
       " 'sigma': 20,\n",
       " 'texp': 1}"
      ]
     },
     "execution_count": 19,
     "metadata": {},
     "output_type": "execute_result"
    }
   ],
   "source": [
    "sabr_norm = opt.sabr.ModelNormalHagan(texp, sigma, alpha=alpha, rho=rho)\n",
    "sabr_norm.__dict__"
   ]
  },
  {
   "cell_type": "code",
   "execution_count": 20,
   "metadata": {
    "collapsed": false
   },
   "outputs": [
    {
     "data": {
      "text/plain": [
       "(array([ 26.59695921,  24.75853528,  22.95673964,  21.19638261,\n",
       "         19.4826555 ,  17.82107839,  16.21741812,  14.67757267,\n",
       "         13.20742012,  11.81263312,  10.49846428,   9.26951283,\n",
       "          8.12948788,   7.08098803,   6.12531972,   5.26237563,\n",
       "          4.49059068,   3.80698489,   3.20729256,   2.68616625,\n",
       "          2.23743499,   1.85439056,   1.53007481,   1.2575435 ,   1.03008923]),\n",
       " array([ 22.898288  ,  22.63620745,  22.38073263,  22.1326082 ,\n",
       "         21.89263645,  21.66167534,  21.44063425,  21.2304669 ,\n",
       "         21.03216098,  20.84672415,  20.67516621,  20.5184775 ,\n",
       "         20.37760417,  20.25342105,  20.1467038 ,  20.05810179,\n",
       "         19.98811408,  19.93707021,  19.9051177 ,  19.89221722,\n",
       "         19.89814614,  19.92250965,  19.9647587 ,  20.02421277,  20.10008575]))"
      ]
     },
     "execution_count": 20,
     "metadata": {},
     "output_type": "execute_result"
    }
   ],
   "source": [
    "price = sabr_norm.price(strike, forward)\n",
    "norm_vol = sabr_norm.norm_vol(strike, forward)\n",
    "price, norm_vol"
   ]
  },
  {
   "cell_type": "code",
   "execution_count": 21,
   "metadata": {
    "collapsed": false,
    "scrolled": true
   },
   "outputs": [
    {
     "data": {
      "text/plain": [
       "19.999999999999922"
      ]
     },
     "execution_count": 21,
     "metadata": {},
     "output_type": "execute_result"
    }
   ],
   "source": [
    "# implied vol (e.g. sigma)\n",
    "sabr_norm.impvol(price[11], strike[11], forward)"
   ]
  },
  {
   "cell_type": "markdown",
   "metadata": {
    "collapsed": false
   },
   "source": [
    "### (3) Smile calibration to 3 options"
   ]
  },
  {
   "cell_type": "code",
   "execution_count": 22,
   "metadata": {
    "collapsed": false
   },
   "outputs": [
    {
     "data": {
      "text/plain": [
       "(array([ 14.37778096,   8.12948788,   3.9368394 ]),\n",
       " array([ 21.18982474,  20.37760417,  19.94575372]))"
      ]
     },
     "execution_count": 22,
     "metadata": {},
     "output_type": "execute_result"
    }
   ],
   "source": [
    "strike3 = np.array([90, 100, 110])\n",
    "price3 = sabr_norm.price(strike3, forward)\n",
    "norm_vol3 = sabr_norm.norm_vol(strike3, forward)\n",
    "\n",
    "price3, norm_vol3"
   ]
  },
  {
   "cell_type": "code",
   "execution_count": 23,
   "metadata": {
    "collapsed": false
   },
   "outputs": [
    {
     "data": {
      "text/plain": [
       "(0, 0, 0)"
      ]
     },
     "execution_count": 23,
     "metadata": {},
     "output_type": "execute_result"
    }
   ],
   "source": [
    "# makre sure this return the original sigma, alpha, rho\n",
    "sabr_norm.calibrate3(norm_vol3, strike3, forward, is_vol=True)"
   ]
  },
  {
   "cell_type": "code",
   "execution_count": 24,
   "metadata": {
    "collapsed": false
   },
   "outputs": [
    {
     "data": {
      "text/plain": [
       "(0, 0, 0)"
      ]
     },
     "execution_count": 24,
     "metadata": {},
     "output_type": "execute_result"
    }
   ],
   "source": [
    "# makre sure this return the original sigma, alpha, rho\n",
    "sabr_norm.calibrate3(price3, strike3, forward, is_vol=False)"
   ]
  },
  {
   "cell_type": "markdown",
   "metadata": {},
   "source": [
    "Below is same for sabr_bsm"
   ]
  },
  {
   "cell_type": "code",
   "execution_count": 25,
   "metadata": {
    "collapsed": false
   },
   "outputs": [
    {
     "data": {
      "text/plain": [
       "(array([ 13.55352055,   8.0492952 ,   4.52747026]),\n",
       " array([ 0.19891353,  0.20210938,  0.20631472]))"
      ]
     },
     "execution_count": 25,
     "metadata": {},
     "output_type": "execute_result"
    }
   ],
   "source": [
    "strike3 = np.array([90, 100, 110])\n",
    "price3 = price = sabr_bsm.price(strike3, forward)\n",
    "bsm_vol3 = sabr_bsm.bsm_vol(strike3, forward)\n",
    "\n",
    "price3, bsm_vol3"
   ]
  },
  {
   "cell_type": "code",
   "execution_count": 26,
   "metadata": {
    "collapsed": false
   },
   "outputs": [
    {
     "data": {
      "text/plain": [
       "(0, 0, 0)"
      ]
     },
     "execution_count": 26,
     "metadata": {},
     "output_type": "execute_result"
    }
   ],
   "source": [
    "# makre sure this return the original sigma, alpha, rho\n",
    "sabr_norm.calibrate3(bsm_vol3, strike3, forward, is_vol=True)"
   ]
  },
  {
   "cell_type": "code",
   "execution_count": 27,
   "metadata": {
    "collapsed": false
   },
   "outputs": [
    {
     "data": {
      "text/plain": [
       "(0, 0, 0)"
      ]
     },
     "execution_count": 27,
     "metadata": {},
     "output_type": "execute_result"
    }
   ],
   "source": [
    "# makre sure this return the original sigma, alpha, rho\n",
    "sabr_norm.calibrate3(price3, strike3, forward, is_vol=False)"
   ]
  },
  {
   "cell_type": "markdown",
   "metadata": {
    "collapsed": false
   },
   "source": [
    "## 2. Pricing under MC method"
   ]
  },
  {
   "cell_type": "code",
   "execution_count": 31,
   "metadata": {
    "collapsed": false
   },
   "outputs": [],
   "source": [
    "strike = np.linspace(75,125,num=25)\n",
    "forward = 100"
   ]
  },
  {
   "cell_type": "code",
   "execution_count": 41,
   "metadata": {
    "collapsed": false
   },
   "outputs": [
    {
     "name": "stdout",
     "output_type": "stream",
     "text": [
      "{'divr': 0, 'alpha': 0.3, 'bsm_model': <option_models.bsm.Model object at 0x000001CA0D2C85C0>, 'intr': 0, 'texp': 1, 'sigma': 0.2, 'beta': 1, 'rho': 0.25}\n"
     ]
    }
   ],
   "source": [
    "# instantiate mc model from the hagan model's parameters\n",
    "print(sabr_bsm.__dict__)\n",
    "sabr_bsm_mc = opt.sabr.ModelBsmMC(sabr_bsm.texp, sabr_bsm.sigma, \n",
    "                                  alpha=sabr_bsm.alpha, rho=sabr_bsm.rho, beta=sabr_bsm.beta)"
   ]
  },
  {
   "cell_type": "code",
   "execution_count": 42,
   "metadata": {
    "collapsed": false
   },
   "outputs": [
    {
     "data": {
      "text/plain": [
       "(array([ 25.54990056,  23.6710906 ,  21.84772723,  20.08808242,\n",
       "         18.39998119,  16.79046024,  15.26547396,  13.82967094,\n",
       "         12.48625486,  11.23693323,  10.08194855,   9.0201795 ,\n",
       "          8.0492952 ,   7.16594441,   6.36596195,   5.64457698,\n",
       "          4.99661108,   4.41665739,   3.8992357 ,   3.43892089,\n",
       "          3.03044477,   2.66877274,   2.34915782,   2.06717523,   1.81874082]),\n",
       " 0)"
      ]
     },
     "execution_count": 42,
     "metadata": {},
     "output_type": "execute_result"
    }
   ],
   "source": [
    "price_hagan = sabr_bsm.price(strike, forward)\n",
    "price_mc = sabr_bsm_mc.price(strike, forward)\n",
    "\n",
    "# make sure the two prices are similar\n",
    "price_hagan, price_mc"
   ]
  },
  {
   "cell_type": "markdown",
   "metadata": {},
   "source": [
    "Repeat the same for beta = 0"
   ]
  },
  {
   "cell_type": "code",
   "execution_count": 43,
   "metadata": {
    "collapsed": false
   },
   "outputs": [
    {
     "name": "stdout",
     "output_type": "stream",
     "text": [
      "{'divr': 0, 'alpha': 0.5, 'normal_model': <option_models.normal.Model object at 0x000001CA0D6E6390>, 'intr': 0, 'texp': 1, 'sigma': 20, 'beta': 0.0, 'rho': -0.25}\n"
     ]
    }
   ],
   "source": [
    "# instantiate mc model from the hagan model's parameters\n",
    "print(sabr_norm.__dict__)\n",
    "sabr_norm_mc = opt.sabr.ModelNormalMC(sabr_norm.texp, sabr_norm.sigma, \n",
    "                                   alpha=sabr_norm.alpha, rho=sabr_norm.rho, beta=sabr_norm.beta)"
   ]
  },
  {
   "cell_type": "code",
   "execution_count": 44,
   "metadata": {
    "collapsed": false
   },
   "outputs": [
    {
     "data": {
      "text/plain": [
       "(array([ 26.59695921,  24.75853528,  22.95673964,  21.19638261,\n",
       "         19.4826555 ,  17.82107839,  16.21741812,  14.67757267,\n",
       "         13.20742012,  11.81263312,  10.49846428,   9.26951283,\n",
       "          8.12948788,   7.08098803,   6.12531972,   5.26237563,\n",
       "          4.49059068,   3.80698489,   3.20729256,   2.68616625,\n",
       "          2.23743499,   1.85439056,   1.53007481,   1.2575435 ,   1.03008923]),\n",
       " 0)"
      ]
     },
     "execution_count": 44,
     "metadata": {},
     "output_type": "execute_result"
    }
   ],
   "source": [
    "price_hagan = sabr_norm.price(strike, forward)\n",
    "price_mc = sabr_norm_mc.price(strike, forward)\n",
    "\n",
    "# make sure the two prices are similar\n",
    "price_hagan, price_mc"
   ]
  },
  {
   "cell_type": "code",
   "execution_count": null,
   "metadata": {
    "collapsed": true
   },
   "outputs": [],
   "source": []
  },
  {
   "cell_type": "markdown",
   "metadata": {
    "collapsed": true
   },
   "source": [
    "## 3. Pricing under conditional MC method"
   ]
  },
  {
   "cell_type": "code",
   "execution_count": 31,
   "metadata": {
    "collapsed": false
   },
   "outputs": [],
   "source": [
    "strike = np.linspace(75,125,num=25)\n",
    "forward = 100"
   ]
  },
  {
   "cell_type": "code",
   "execution_count": 46,
   "metadata": {
    "collapsed": false
   },
   "outputs": [
    {
     "name": "stdout",
     "output_type": "stream",
     "text": [
      "{'divr': 0, 'alpha': 0.3, 'bsm_model': <option_models.bsm.Model object at 0x000001CA0D2C85C0>, 'intr': 0, 'texp': 1, 'sigma': 0.2, 'beta': 1, 'rho': 0.25}\n"
     ]
    }
   ],
   "source": [
    "# instantiate mc model from the hagan model's parameters\n",
    "print(sabr_bsm.__dict__)\n",
    "sabr_bsm_cmc = opt.sabr.ModelBsmCondMC(sabr_bsm.texp, sabr_bsm.sigma, \n",
    "                                       alpha=sabr_bsm.alpha, rho=sabr_bsm.rho, beta=sabr_bsm.beta)"
   ]
  },
  {
   "cell_type": "code",
   "execution_count": 47,
   "metadata": {
    "collapsed": false
   },
   "outputs": [
    {
     "data": {
      "text/plain": [
       "(array([ 25.54990056,  23.6710906 ,  21.84772723,  20.08808242,\n",
       "         18.39998119,  16.79046024,  15.26547396,  13.82967094,\n",
       "         12.48625486,  11.23693323,  10.08194855,   9.0201795 ,\n",
       "          8.0492952 ,   7.16594441,   6.36596195,   5.64457698,\n",
       "          4.99661108,   4.41665739,   3.8992357 ,   3.43892089,\n",
       "          3.03044477,   2.66877274,   2.34915782,   2.06717523,   1.81874082]),\n",
       " 0)"
      ]
     },
     "execution_count": 47,
     "metadata": {},
     "output_type": "execute_result"
    }
   ],
   "source": [
    "price_hagan = sabr_bsm.price(strike, forward)\n",
    "price_mc = sabr_bsm_cmc.price(strike, forward)\n",
    "\n",
    "# make sure the two prices are similar\n",
    "price_hagan, price_mc"
   ]
  },
  {
   "cell_type": "markdown",
   "metadata": {},
   "source": [
    "Repeat the same for beta = 0"
   ]
  },
  {
   "cell_type": "code",
   "execution_count": 50,
   "metadata": {
    "collapsed": false
   },
   "outputs": [
    {
     "name": "stdout",
     "output_type": "stream",
     "text": [
      "{'divr': 0, 'alpha': 0.5, 'normal_model': <option_models.normal.Model object at 0x000001CA0D6E6390>, 'intr': 0, 'texp': 1, 'sigma': 20, 'beta': 0.0, 'rho': -0.25}\n"
     ]
    }
   ],
   "source": [
    "# instantiate mc model from the hagan model's parameters\n",
    "print(sabr_norm.__dict__)\n",
    "sabr_norm_cmc = opt.sabr.ModelBsmCondMC(sabr_norm.texp, sabr_norm.sigma, alpha=sabr_norm.alpha, \n",
    "                                        rho=sabr_norm.rho, beta=sabr_norm.beta)"
   ]
  },
  {
   "cell_type": "code",
   "execution_count": 51,
   "metadata": {
    "collapsed": false
   },
   "outputs": [
    {
     "data": {
      "text/plain": [
       "(array([ 26.59695921,  24.75853528,  22.95673964,  21.19638261,\n",
       "         19.4826555 ,  17.82107839,  16.21741812,  14.67757267,\n",
       "         13.20742012,  11.81263312,  10.49846428,   9.26951283,\n",
       "          8.12948788,   7.08098803,   6.12531972,   5.26237563,\n",
       "          4.49059068,   3.80698489,   3.20729256,   2.68616625,\n",
       "          2.23743499,   1.85439056,   1.53007481,   1.2575435 ,   1.03008923]),\n",
       " 0)"
      ]
     },
     "execution_count": 51,
     "metadata": {},
     "output_type": "execute_result"
    }
   ],
   "source": [
    "price_hagan = sabr_norm.price(strike, forward)\n",
    "price_mc = sabr_norm_cmc.price(strike, forward)\n",
    "    \n",
    "# make sure the two prices are similar\n",
    "price_hagan, price_mc"
   ]
  },
  {
   "cell_type": "markdown",
   "metadata": {
    "collapsed": true
   },
   "source": [
    "## Compare the MC variance between brute-force MC and conditional MC\n",
    "For this, you should not use the random number seed"
   ]
  },
  {
   "cell_type": "code",
   "execution_count": null,
   "metadata": {
    "collapsed": true
   },
   "outputs": [],
   "source": []
  }
 ],
 "metadata": {
  "anaconda-cloud": {},
  "kernelspec": {
   "display_name": "Python [default]",
   "language": "python",
   "name": "python3"
  },
  "language_info": {
   "codemirror_mode": {
    "name": "ipython",
    "version": 3
   },
   "file_extension": ".py",
   "mimetype": "text/x-python",
   "name": "python",
   "nbconvert_exporter": "python",
   "pygments_lexer": "ipython3",
   "version": "3.5.2"
  }
 },
 "nbformat": 4,
 "nbformat_minor": 1
}

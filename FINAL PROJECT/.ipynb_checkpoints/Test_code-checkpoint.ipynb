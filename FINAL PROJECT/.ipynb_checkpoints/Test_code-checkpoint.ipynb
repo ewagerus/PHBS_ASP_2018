{
 "cells": [
  {
   "cell_type": "markdown",
   "metadata": {},
   "source": [
    "# BSM IMPLEMENTATION"
   ]
  },
  {
   "cell_type": "markdown",
   "metadata": {},
   "source": [
    "The code below was written to test the implied volatility calculated based on the article \"Let's be Rational\" by Peter Jackel (2016).\n",
    "\n",
    "Below we will calculate:\n",
    "    - A BSM model implied volatility\n",
    "    - An implied volatility calculated based on the paper mentioned above - referred to in the code as the \"rational implied volatility.\""
   ]
  },
  {
   "cell_type": "code",
   "execution_count": 1,
   "metadata": {
    "collapsed": true
   },
   "outputs": [],
   "source": [
    "import numpy as np"
   ]
  },
  {
   "cell_type": "code",
   "execution_count": 3,
   "metadata": {},
   "outputs": [],
   "source": [
    "from pyfe import rational\n",
    "from pyfe import bsm"
   ]
  },
  {
   "cell_type": "code",
   "execution_count": 4,
   "metadata": {},
   "outputs": [
    {
     "data": {
      "text/plain": [
       "<module 'pyfe.bsm' from '/Users/ewagerus/Documents/PHBS/ASP/PHBS_ASP_2018/FINAL PROJECT/pyfe/bsm.py'>"
      ]
     },
     "execution_count": 4,
     "metadata": {},
     "output_type": "execute_result"
    }
   ],
   "source": [
    "### Only run this when you changed the class definition\n",
    "import imp\n",
    "imp.reload(rational)\n",
    "imp.reload(bsm)"
   ]
  },
  {
   "cell_type": "code",
   "execution_count": 5,
   "metadata": {
    "collapsed": true
   },
   "outputs": [],
   "source": [
    "np.random.seed(12345)"
   ]
  },
  {
   "cell_type": "code",
   "execution_count": 6,
   "metadata": {},
   "outputs": [
    {
     "name": "stdout",
     "output_type": "stream",
     "text": [
      "spot price= 98.59232185634295\n",
      "strike price= 76.32751109163571\n",
      "time to expiry= 1.0012021772177628\n",
      "price= 10.228013927651986\n",
      "interest rate= 0.08948150407143612\n",
      "dividen rate= 0.12315349356605779\n"
     ]
    }
   ],
   "source": [
    "spot = np.random.uniform(80,100)\n",
    "strike = np.random.uniform(70,90)\n",
    "texp = np.random.uniform(0.1, 5)\n",
    "price = np.random.uniform(0,50)\n",
    "intr = np.random.uniform(0.01, 0.15)\n",
    "divr = np.random.uniform(0.01, 0.2)\n",
    "print(\"spot price=\",spot)\n",
    "print(\"strike price=\",strike)\n",
    "print(\"time to expiry=\",texp)\n",
    "print(\"price=\",price)\n",
    "print('interest rate=', intr)\n",
    "print('dividen rate=', divr)"
   ]
  },
  {
   "cell_type": "code",
   "execution_count": 7,
   "metadata": {
    "collapsed": true
   },
   "outputs": [],
   "source": [
    "bsm = bsm.BsmModel(sigma=2, intr=intr, divr=divr)"
   ]
  },
  {
   "cell_type": "markdown",
   "metadata": {},
   "source": [
    "### BSM model implied volatility"
   ]
  },
  {
   "cell_type": "code",
   "execution_count": 8,
   "metadata": {},
   "outputs": [
    {
     "name": "stdout",
     "output_type": "stream",
     "text": [
      "implied volatility= 0.5706417188684771\n"
     ]
    }
   ],
   "source": [
    "vol_imp = bsm.impvol(price, strike, spot, texp, cp_sign=-1)\n",
    "print(\"implied volatility=\",vol_imp)"
   ]
  },
  {
   "cell_type": "markdown",
   "metadata": {},
   "source": [
    "### Rational implied volatility"
   ]
  },
  {
   "cell_type": "code",
   "execution_count": 10,
   "metadata": {},
   "outputs": [
    {
     "name": "stdout",
     "output_type": "stream",
     "text": [
      "rational implied volatility= 0.5707130317155684\n"
     ]
    }
   ],
   "source": [
    "rational_vol = bsm.impvol_rational(price, strike, spot, texp, cp_sign=-1)\n",
    "print(\"rational implied volatility=\",rational_vol)"
   ]
  },
  {
   "cell_type": "markdown",
   "metadata": {},
   "source": [
    "### COMPARISON"
   ]
  },
  {
   "cell_type": "markdown",
   "metadata": {},
   "source": [
    "* volatilities"
   ]
  },
  {
   "cell_type": "code",
   "execution_count": 12,
   "metadata": {},
   "outputs": [
    {
     "name": "stdout",
     "output_type": "stream",
     "text": [
      "implied volatility= 0.5706417188684771\n",
      "rational implied volatility= 0.5707130317155684\n"
     ]
    }
   ],
   "source": [
    "print(\"implied volatility=\",vol_imp)\n",
    "print(\"rational implied volatility=\",rational_vol)"
   ]
  },
  {
   "cell_type": "markdown",
   "metadata": {},
   "source": [
    "* comparison"
   ]
  },
  {
   "cell_type": "code",
   "execution_count": 13,
   "metadata": {},
   "outputs": [
    {
     "data": {
      "text/plain": [
       "7.131284709127605e-05"
      ]
     },
     "execution_count": 13,
     "metadata": {},
     "output_type": "execute_result"
    }
   ],
   "source": [
    "abs(vol_imp-rational_vol)"
   ]
  }
 ],
 "metadata": {
  "kernelspec": {
   "display_name": "Python 3",
   "language": "python",
   "name": "python3"
  },
  "language_info": {
   "codemirror_mode": {
    "name": "ipython",
    "version": 3
   },
   "file_extension": ".py",
   "mimetype": "text/x-python",
   "name": "python",
   "nbconvert_exporter": "python",
   "pygments_lexer": "ipython3",
   "version": "3.6.3"
  }
 },
 "nbformat": 4,
 "nbformat_minor": 2
}
